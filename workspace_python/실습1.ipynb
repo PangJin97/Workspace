{
 "cells": [
  {
   "cell_type": "code",
   "execution_count": 25,
   "metadata": {},
   "outputs": [
    {
     "name": "stdout",
     "output_type": "stream",
     "text": [
      "0입니다.\n"
     ]
    }
   ],
   "source": [
    "#키보드로 정수를 입력받아, 입력받은 정수가 짝수면 '1'을 출력하고, 홀수면 '2'를 출력 \n",
    "#입력받은 수가 0이면 '0'입니다 \n",
    "\n",
    "#int(문자열) => 문자열을 정수로 반환\n",
    "\n",
    "num = int(input('정수를 입력하세요: '))\n",
    "\n",
    "if num % 2 == 0 and num != 0 :\n",
    "  print(1)\n",
    "elif num % 2 != 0 :\n",
    "  print(2)\n",
    "else :\n",
    "  print('0입니다.')\n"
   ]
  },
  {
   "cell_type": "code",
   "execution_count": 36,
   "metadata": {},
   "outputs": [
    {
     "name": "stdout",
     "output_type": "stream",
     "text": [
      "15\n"
     ]
    }
   ],
   "source": [
    "#키보르로 정수를 입력 받아, 0 부터 입력받은 수까지의 합을 출력\n",
    "\n",
    "num1 = int(input('정수를 입력하세요'))\n",
    "\n",
    "sum = 0\n",
    "for e in range(num1+1) :\n",
    "  sum = sum + e\n",
    "\n",
    "print(sum)\n"
   ]
  },
  {
   "cell_type": "code",
   "execution_count": 43,
   "metadata": {},
   "outputs": [
    {
     "name": "stdout",
     "output_type": "stream",
     "text": [
      "2 x 1 = 2\n",
      "2 x 2 = 4\n",
      "2 x 3 = 6\n",
      "2 x 4 = 8\n",
      "2 x 5 = 10\n",
      "2 x 6 = 12\n",
      "2 x 7 = 14\n",
      "2 x 8 = 16\n",
      "2 x 9 = 18\n"
     ]
    }
   ],
   "source": [
    "#키보드로 1~9까지의 정수를 입력받아, 입력받은 숫자의 구구단을 출력 \n",
    "\n",
    "num3 = int(input('정수를 입력하세요: '))\n",
    "\n",
    "for e in range(1, 10): \n",
    "  print(f'{num3} x {e} = {num3 * e}')\n",
    "  \n",
    "\n"
   ]
  }
 ],
 "metadata": {
  "kernelspec": {
   "display_name": "Python 3",
   "language": "python",
   "name": "python3"
  },
  "language_info": {
   "codemirror_mode": {
    "name": "ipython",
    "version": 3
   },
   "file_extension": ".py",
   "mimetype": "text/x-python",
   "name": "python",
   "nbconvert_exporter": "python",
   "pygments_lexer": "ipython3",
   "version": "3.13.2"
  }
 },
 "nbformat": 4,
 "nbformat_minor": 2
}
