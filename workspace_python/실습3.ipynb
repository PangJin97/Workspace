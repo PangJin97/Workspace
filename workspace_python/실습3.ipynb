{
 "cells": [
  {
   "cell_type": "code",
   "execution_count": 3,
   "metadata": {},
   "outputs": [],
   "source": [
    "# 아래의 딕셔너리 데이터를 참고하여 문제 해결\n",
    "student = {\n",
    "  'name' : 'hong',\n",
    "  'korScore' : 0,\n",
    "  'mathScore' : 0,\n",
    "}"
   ]
  },
  {
   "cell_type": "code",
   "execution_count": 8,
   "metadata": {},
   "outputs": [
    {
     "name": "stdout",
     "output_type": "stream",
     "text": [
      "{'name': 'hong', 'korScore': 80, 'mathScore': 90, 'totalScore': 170}\n"
     ]
    }
   ],
   "source": [
    "#1. 위에서 선언한 딕셔너리 데이터의 국어점수 및 수학점수 데이터를 키보드로 입력받은 데이터로 변경하시오\n",
    "\n",
    "student['korScore'] = int(input('국어점수'))\n",
    "student['mathScore'] = int(input('수학점수'))\n",
    "print(student)"
   ]
  },
  {
   "cell_type": "code",
   "execution_count": null,
   "metadata": {},
   "outputs": [],
   "source": [
    "#2. 위의 딕셔너리 데이터에 총점(totalScore) 키를 추가하고, value의 값는 국어와 수학점수의 합으로 지정하시오. \n",
    "\n",
    "student['totalScore'] = student['korScore'] + student['mathScore']"
   ]
  },
  {
   "cell_type": "code",
   "execution_count": 42,
   "metadata": {},
   "outputs": [
    {
     "data": {
      "text/plain": [
       "256"
      ]
     },
     "execution_count": 42,
     "metadata": {},
     "output_type": "execute_result"
    }
   ],
   "source": [
    "scores = {\n",
    "  'korScore' : 90,\n",
    "  'engScore' : 80,\n",
    "  'mathScore' : 86\n",
    "}\n",
    "# 매개변수로 전달되는 학생점수 객체의 모든점수의 합을 리턴하는 함수를 선언하고 호출해보세요.\n",
    "\n",
    "def sumScore(scores):\n",
    "  result = 0 \n",
    "  for e in scores : \n",
    "    result = result + scores[e]\n",
    "  \n",
    "  return result\n",
    "\n",
    "sumScore(scores)"
   ]
  },
  {
   "cell_type": "code",
   "execution_count": 46,
   "metadata": {},
   "outputs": [
    {
     "name": "stdout",
     "output_type": "stream",
     "text": [
      "{'name': 's4ria'}\n"
     ]
    }
   ],
   "source": [
    "'''\n",
    "매개변수로 전달된 딕셔너리에 key와 value를 추가한 딕셔너리를 리턴하는 함수를 선언하고 호출하세요.\n",
    "첫번째 매개변수 : 딕셔너리\n",
    "두번째 매개변수 : 추가할 key\n",
    "세번째 매개변수 : 추가할 value\n",
    "'''\n",
    "dic1={}\n",
    "\n",
    "def newDic(dic1, key, value):\n",
    "  dic1[key] = value\n",
    "  return dic1\n",
    "\n",
    "resultDicData = newDic(dic1, 'name', 's4ria')\n",
    "print(resultDicData)  "
   ]
  },
  {
   "cell_type": "code",
   "execution_count": null,
   "metadata": {},
   "outputs": [
    {
     "name": "stdout",
     "output_type": "stream",
     "text": [
      "{'apple': 5, 'banana': 6, 'orange': 6}\n"
     ]
    }
   ],
   "source": [
    "\n",
    "list1=['apple','banana','orange']\n",
    "dic1 ={}\n",
    "\n",
    "def lenList1(list1):\n",
    "  for e in list1:\n",
    "    dic1[e] = len(e)\n",
    "\n",
    "    #파이썬은 len()안에 문자열도 들어갈 수 있다\n",
    "    #파이썬은 문자열도 리스트로 취급한다. \n",
    "\n",
    "  return dic1\n",
    "\n",
    "resultDic = lenList1(list1)\n",
    "print(resultDic)\n"
   ]
  },
  {
   "cell_type": "code",
   "execution_count": 51,
   "metadata": {},
   "outputs": [],
   "source": [
    "#해설\n",
    "\n",
    "def getEvenList(list1,list2): \n",
    "  list3 = list1 + list2 \n",
    "  resultList = []\n",
    "\n",
    "  for e in list3 :\n",
    "    if e % 2 == 0 :\n",
    "      resultList.append(e) \n",
    "  \n",
    "  return resultList\n"
   ]
  },
  {
   "cell_type": "code",
   "execution_count": 53,
   "metadata": {},
   "outputs": [
    {
     "data": {
      "text/plain": [
       "[2, 4, 10]"
      ]
     },
     "execution_count": 53,
     "metadata": {},
     "output_type": "execute_result"
    }
   ],
   "source": [
    "getEvenList([1,2,5],[4,7,10])"
   ]
  },
  {
   "cell_type": "code",
   "execution_count": null,
   "metadata": {},
   "outputs": [],
   "source": []
  }
 ],
 "metadata": {
  "kernelspec": {
   "display_name": "Python 3",
   "language": "python",
   "name": "python3"
  },
  "language_info": {
   "codemirror_mode": {
    "name": "ipython",
    "version": 3
   },
   "file_extension": ".py",
   "mimetype": "text/x-python",
   "name": "python",
   "nbconvert_exporter": "python",
   "pygments_lexer": "ipython3",
   "version": "3.13.2"
  }
 },
 "nbformat": 4,
 "nbformat_minor": 2
}
