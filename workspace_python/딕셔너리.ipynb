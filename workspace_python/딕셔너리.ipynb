{
 "cells": [
  {
   "cell_type": "code",
   "execution_count": null,
   "metadata": {},
   "outputs": [],
   "source": [
    "#딕셔너리(dictionary) \n",
    "#다수의 데이터를 key와 value의 한 쌍으로 저장하는 자료형(객체체)"
   ]
  },
  {
   "cell_type": "code",
   "execution_count": 1,
   "metadata": {},
   "outputs": [
    {
     "name": "stdout",
     "output_type": "stream",
     "text": [
      "{'학번': 3, '이름': '이', '점수': 80}\n"
     ]
    }
   ],
   "source": [
    "# 딕셔너리 데이터를 생성 \n",
    "dic1 = {} #빈 딕셔너리 데이터 생성 \n",
    "dic2 = {\n",
    "  '학번' : 3,\n",
    "  '이름' : 'kim',\n",
    "  '점수' : 80,\n",
    "  '이름' : '이'\n",
    "}\n",
    "\n",
    "print(dic2)"
   ]
  },
  {
   "cell_type": "code",
   "execution_count": 2,
   "metadata": {},
   "outputs": [
    {
     "name": "stdout",
     "output_type": "stream",
     "text": [
      "3\n"
     ]
    }
   ],
   "source": [
    "# 딕셔너리 데이터 읽기 \n",
    "print(dic2['학번'])\n"
   ]
  },
  {
   "cell_type": "code",
   "execution_count": null,
   "metadata": {},
   "outputs": [
    {
     "name": "stdout",
     "output_type": "stream",
     "text": [
      "{'modelName': 's20', 'price': 10000, 'color': 'red'}\n",
      "{'modelName': 's20', 'price': 5000, 'color': 'red'}\n"
     ]
    }
   ],
   "source": [
    "phone = {\n",
    "  'modelName' : 's20',\n",
    "  'price' : 10000 \n",
    "}\n",
    "\n",
    "# 딕셔너리 데이터 추가\n",
    "phone['color'] = 'red'\n",
    "print(phone)\n",
    "\n",
    "#없는 키 넣으면 값 추가\n",
    "\n",
    "# 딕셔너리 데이터 변경\n",
    "phone['price'] = 5000\n",
    "print(phone)\n",
    "\n",
    "#있는 키 넣으면 값 변경 \n"
   ]
  },
  {
   "cell_type": "code",
   "execution_count": null,
   "metadata": {},
   "outputs": [
    {
     "name": "stdout",
     "output_type": "stream",
     "text": [
      "{'brand': 'samsung', 'price': 1000}\n"
     ]
    }
   ],
   "source": [
    "# 딕셔너리 데이터 삭제 \n",
    "moniter = {\n",
    "  'brand' : 'samsung',\n",
    "  'price' : 1000,\n",
    "  'color' : 'black'\n",
    "}\n",
    "\n",
    "# moniter 딕셔너리 데이터에서 color 값을 삭제 \n",
    "del moniter['color'] \n",
    "\n",
    "print(moniter)"
   ]
  },
  {
   "cell_type": "code",
   "execution_count": null,
   "metadata": {},
   "outputs": [
    {
     "name": "stdout",
     "output_type": "stream",
     "text": [
      "key=brand, value=samsung\n",
      "key=price, value=1000\n",
      "key=color, value=black\n"
     ]
    }
   ],
   "source": [
    "moniter = {\n",
    "  'brand' : 'samsung',\n",
    "  'price' : 1000,\n",
    "  'color' : 'black'\n",
    "}\n",
    "\n",
    "#딕셔너리 데이터를 반복 돌리면 key 값만 나옴\n",
    "for e in moniter:\n",
    "  print(f'key={e}, value={moniter[e]}')\n",
    "  # 딕셔너리 값을 불러오려면 무조건 키값을 넣어줘야한다"
   ]
  },
  {
   "cell_type": "code",
   "execution_count": 1,
   "metadata": {},
   "outputs": [],
   "source": [
    "member = {\n",
    "  '이름' : '홍길동',\n",
    "  '나이' : 20,\n",
    "  '취미' : ['운동', '독서', '등산'],\n",
    "  '가족' : [\n",
    "    {\n",
    "      '관계' : '아빠',\n",
    "      '이름' : '홍아빠',\n",
    "    },\n",
    "    {\n",
    "      '관계' : '엄마',\n",
    "      '이름' : '홍엄마'\n",
    "    }\n",
    "  ]\n",
    "}\n"
   ]
  },
  {
   "cell_type": "code",
   "execution_count": null,
   "metadata": {},
   "outputs": [
    {
     "name": "stdout",
     "output_type": "stream",
     "text": [
      "['운동', '독서', '등산']\n",
      "3\n",
      "등산\n",
      "홍아빠\n",
      "{'이름': '홍길동', '나이': 20, '취미': ['운동', '독서', '등산'], '가족': [{'관계': '아빠', '이름': '홍아빠'}, {'관계': '엄마', '이름': '홍엄마', '나이': 50}]}\n"
     ]
    }
   ],
   "source": [
    "#1번 member 딕셔너리에서 모든 취미 출력\n",
    "\n",
    "print(member['취미'])\n",
    "\n",
    "\n",
    "#2번 member 딕셔너리에서 취미의 갯수를 출력\n",
    "\n",
    "print(len(member['취미']))\n",
    "\n",
    "#len함수안에 리스트를 넣으면 데이터 갯수를 뽑아줌\n",
    "# 'member['취미']' 자료형이 리스트 \n",
    "\n",
    "\n",
    "\n",
    "#3번. member 딕셔너리에서 마지막 취미 출력\n",
    "print(member['취미'][-1])\n",
    "\n",
    "# 'member['취미']' 자료형이 리스트 \n",
    "# 리스트의 마지막 데이터 찾기 [-1] \n",
    "\n",
    "\n",
    "\n",
    "#4번. member 딕셔너리에서 아빠의 이름 출력\n",
    "\n",
    "\n",
    "print(member['가족'][0]['이름'])\n",
    "\n",
    "# member['가족']의 자료형은 리스트 \n",
    "# 0번째니까 [0]\n",
    "# member['가족'][0]의 자료형은 딕셔너리\n",
    "# 딕셔너리 키값 접근\n",
    "#['이름']\n",
    "\n",
    "\n",
    "#5번. member 딕셔너리에서 엄마의 나이를 추가합니다(나이는 50)\n",
    "\n",
    "member['가족'][1]['나이']=50 \n",
    "print(member)\n"
   ]
  }
 ],
 "metadata": {
  "kernelspec": {
   "display_name": "Python 3",
   "language": "python",
   "name": "python3"
  },
  "language_info": {
   "codemirror_mode": {
    "name": "ipython",
    "version": 3
   },
   "file_extension": ".py",
   "mimetype": "text/x-python",
   "name": "python",
   "nbconvert_exporter": "python",
   "pygments_lexer": "ipython3",
   "version": "3.13.2"
  }
 },
 "nbformat": 4,
 "nbformat_minor": 2
}
